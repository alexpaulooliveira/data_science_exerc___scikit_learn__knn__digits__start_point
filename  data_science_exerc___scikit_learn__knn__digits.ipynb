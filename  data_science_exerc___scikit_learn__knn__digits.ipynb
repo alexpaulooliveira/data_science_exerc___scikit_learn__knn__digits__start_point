{
 "cells": [
  {
   "cell_type": "markdown",
   "metadata": {},
   "source": [
    "# IFS - Data Science - Alex Paulo\n",
    "### KNN\n",
    "### Dataset from http://archive.ics.uci.edu/ml/datasets/Optical+Recognition+of+Handwritten+Digits"
   ]
  },
  {
   "cell_type": "markdown",
   "metadata": {},
   "source": [
    "### O que é o KNN (K-Nearest Neighbor)?\n",
    "\n",
    "\n",
    "![KNN](./knn.png \"KNN\")\n",
    "\n",
    "Me diga com quem tu andas... eu direi quem tu és!!!\n"
   ]
  },
  {
   "cell_type": "markdown",
   "metadata": {},
   "source": [
    "# Exercício\n",
    "\n",
    "##### 1) Crie uma aplicação que faça uso do subset da base gratuita existente em https://archive.ics.uci.edu/ml/datasets/Optical+Recognition+of+Handwritten+Digits, disponibilizada por meio do método \"datasets.load_digits()\" da API scikit-learn. A carga sugerida deve ser feita com a seguinte linha de código: \"digits = datasets.load_digits()\"\n",
    "\n",
    "##### 2) Faça uma análise exploratória dos dados por meio dos métodos \"keys()\" e \"DESCR\"\n",
    "\n",
    "##### 3) Investigue os shapes das imagens e das suas respectivas chaves.\n",
    "\n",
    "##### 4) Exiba as imagens com as chaves compreendidas no intervalo 1010 a 1019, seguidas de um rótulo que identifica a classe de cada uma.\n",
    "\n",
    "##### 5) Crie uma camada de aprendizado utilizando a classe KNeighborsClassifier, considerando o K = 7.\n",
    "\n",
    "##### 6) Mensure a acurácia do aprendizado concretizado na questão anterior.\n",
    "\n",
    "##### 7) Crie um loop com o objetivo de treinar o classificador com diferentes Ks (variando de um a nove). Para cada treinamento concretizado, armazene, em um vetor intitulado \"train_accuracy\" o histórico de acurácias quando o teste for realizado com os mesmos dados utilizados no treinamento. E, em um vertor intitulado \"test_accuracy\", o histórico de acurácias quando o teste for realizado com os dados elencados para treinamento.\n",
    "\n",
    "##### 8) Com o objetivo de estudar as relações entre Overfitting e Underfitting, construa um gráfico com os vetores de histórico de acurácia montados na questão anterior.\n"
   ]
  }
 ],
 "metadata": {
  "interpreter": {
   "hash": "d9a8acb4f733d3596df9f6fac9daff15e014d11794ebc65488d1c191c94698fd"
  },
  "kernelspec": {
   "display_name": "Python 3.9.12 ('base')",
   "language": "python",
   "name": "python3"
  },
  "language_info": {
   "codemirror_mode": {
    "name": "ipython",
    "version": 3
   },
   "file_extension": ".py",
   "mimetype": "text/x-python",
   "name": "python",
   "nbconvert_exporter": "python",
   "pygments_lexer": "ipython3",
   "version": "3.9.12"
  },
  "orig_nbformat": 4
 },
 "nbformat": 4,
 "nbformat_minor": 2
}
